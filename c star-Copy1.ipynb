{
 "cells": [
  {
   "cell_type": "markdown",
   "id": "44ffd58f",
   "metadata": {},
   "source": [
    "Implementation of C*"
   ]
  },
  {
   "cell_type": "code",
   "execution_count": 1,
   "id": "ce4471a5",
   "metadata": {},
   "outputs": [
    {
     "data": {
      "text/plain": [
       "Finite Field in a of size 2^2"
      ]
     },
     "execution_count": 1,
     "metadata": {},
     "output_type": "execute_result"
    }
   ],
   "source": [
    "q = 4\n",
    "F.<a> = GF(2^2)\n",
    "F"
   ]
  },
  {
   "cell_type": "code",
   "execution_count": 2,
   "id": "86e85f7c",
   "metadata": {},
   "outputs": [
    {
     "data": {
      "text/plain": [
       "2"
      ]
     },
     "execution_count": 2,
     "metadata": {},
     "output_type": "execute_result"
    }
   ],
   "source": [
    "F.characteristic()"
   ]
  },
  {
   "cell_type": "code",
   "execution_count": 3,
   "id": "bd799ca8",
   "metadata": {},
   "outputs": [
    {
     "data": {
      "text/plain": [
       "[0, a, a + 1, 1]"
      ]
     },
     "execution_count": 3,
     "metadata": {},
     "output_type": "execute_result"
    }
   ],
   "source": [
    "F.list()"
   ]
  },
  {
   "cell_type": "code",
   "execution_count": 4,
   "id": "b8d8c9ad",
   "metadata": {},
   "outputs": [
    {
     "data": {
      "text/plain": [
       "4"
      ]
     },
     "execution_count": 4,
     "metadata": {},
     "output_type": "execute_result"
    }
   ],
   "source": [
    "F.order()"
   ]
  },
  {
   "cell_type": "code",
   "execution_count": 5,
   "id": "f8f3bc65",
   "metadata": {},
   "outputs": [
    {
     "data": {
      "text/plain": [
       "*  a b c d\n",
       " +--------\n",
       "a| a a a a\n",
       "b| a b c d\n",
       "c| a c d b\n",
       "d| a d b c\n"
      ]
     },
     "execution_count": 5,
     "metadata": {},
     "output_type": "execute_result"
    }
   ],
   "source": [
    "F.multiplication_table()"
   ]
  },
  {
   "cell_type": "code",
   "execution_count": 6,
   "id": "2ddba557",
   "metadata": {},
   "outputs": [
    {
     "data": {
      "text/plain": [
       "+  a b c d\n",
       " +--------\n",
       "a| a b c d\n",
       "b| b a d c\n",
       "c| c d a b\n",
       "d| d c b a\n"
      ]
     },
     "execution_count": 6,
     "metadata": {},
     "output_type": "execute_result"
    }
   ],
   "source": [
    "F.addition_table()"
   ]
  },
  {
   "cell_type": "code",
   "execution_count": 7,
   "id": "13c5c38e",
   "metadata": {},
   "outputs": [
    {
     "data": {
      "text/plain": [
       "Univariate Polynomial Ring in x over Finite Field in a of size 2^2"
      ]
     },
     "execution_count": 7,
     "metadata": {},
     "output_type": "execute_result"
    }
   ],
   "source": [
    "R.<x> = F[]\n",
    "R"
   ]
  },
  {
   "cell_type": "code",
   "execution_count": 8,
   "id": "192198fe",
   "metadata": {},
   "outputs": [
    {
     "data": {
      "text/plain": [
       "a"
      ]
     },
     "execution_count": 8,
     "metadata": {},
     "output_type": "execute_result"
    }
   ],
   "source": [
    "F.gen()"
   ]
  },
  {
   "cell_type": "code",
   "execution_count": 9,
   "id": "cd9a4851",
   "metadata": {},
   "outputs": [
    {
     "data": {
      "text/plain": [
       "Univariate Quotient Polynomial Ring in X over Finite Field in a of size 2^2 with modulus X^3 + a"
      ]
     },
     "execution_count": 9,
     "metadata": {},
     "output_type": "execute_result"
    }
   ],
   "source": [
    "n = 3\n",
    "E.<X> = F.extension(x^n+a)\n",
    "E"
   ]
  },
  {
   "cell_type": "code",
   "execution_count": 10,
   "id": "deac67bd",
   "metadata": {},
   "outputs": [],
   "source": [
    "#maps E to E\n",
    "def central_map(X):\n",
    "    return X^17"
   ]
  },
  {
   "cell_type": "code",
   "execution_count": 11,
   "id": "377a5f21",
   "metadata": {},
   "outputs": [
    {
     "data": {
      "text/plain": [
       "26"
      ]
     },
     "execution_count": 11,
     "metadata": {},
     "output_type": "execute_result"
    }
   ],
   "source": [
    "g,k,h = xgcd(q**n-1 , q**2 + 1)\n",
    "h"
   ]
  },
  {
   "cell_type": "code",
   "execution_count": 12,
   "id": "e96ad1c4",
   "metadata": {},
   "outputs": [],
   "source": [
    "def inv_central_map(X):\n",
    "    X^26    "
   ]
  },
  {
   "cell_type": "code",
   "execution_count": 13,
   "id": "fb7055a4",
   "metadata": {},
   "outputs": [],
   "source": [
    "def phi(x):\n",
    "    return x[0] * X^0 + x[1] * X^1 + x[2] * X^2 "
   ]
  },
  {
   "cell_type": "code",
   "execution_count": 14,
   "id": "eeb53f9e",
   "metadata": {},
   "outputs": [],
   "source": [
    "Sh = matrix([[a,a,a],[0,0,a],[a+1,a,1]])\n",
    "def S(x):\n",
    "    return Sh * x + vector([0 , a+1 ,a])"
   ]
  },
  {
   "cell_type": "code",
   "execution_count": 15,
   "id": "00d092a6",
   "metadata": {},
   "outputs": [
    {
     "data": {
      "text/plain": [
       "(a, a, a)"
      ]
     },
     "execution_count": 15,
     "metadata": {},
     "output_type": "execute_result"
    }
   ],
   "source": [
    "S(vector([0,a,a+1]))"
   ]
  },
  {
   "cell_type": "code",
   "execution_count": 16,
   "id": "6350d986",
   "metadata": {},
   "outputs": [
    {
     "data": {
      "text/plain": [
       "a*X^2 + a*X + a"
      ]
     },
     "execution_count": 16,
     "metadata": {},
     "output_type": "execute_result"
    }
   ],
   "source": [
    "Y = phi(S(vector([0,a,a+1])))\n",
    "Y"
   ]
  },
  {
   "cell_type": "code",
   "execution_count": 17,
   "id": "0305313e",
   "metadata": {},
   "outputs": [
    {
     "data": {
      "text/plain": [
       "<class 'sage.rings.polynomial.polynomial_quotient_ring.PolynomialQuotientRing_field_with_category.element_class'>"
      ]
     },
     "execution_count": 17,
     "metadata": {},
     "output_type": "execute_result"
    }
   ],
   "source": [
    "type(Y)"
   ]
  },
  {
   "cell_type": "code",
   "execution_count": 18,
   "id": "e415cb7b",
   "metadata": {},
   "outputs": [
    {
     "data": {
      "text/plain": [
       "(a + 1)*X + a"
      ]
     },
     "execution_count": 18,
     "metadata": {},
     "output_type": "execute_result"
    }
   ],
   "source": [
    "Y_im = central_map(Y)\n",
    "Y_im"
   ]
  },
  {
   "cell_type": "code",
   "execution_count": 19,
   "id": "fdd19c7f",
   "metadata": {},
   "outputs": [
    {
     "data": {
      "text/plain": [
       "<class 'sage.rings.polynomial.polynomial_quotient_ring.PolynomialQuotientRing_field_with_category.element_class'>"
      ]
     },
     "execution_count": 19,
     "metadata": {},
     "output_type": "execute_result"
    }
   ],
   "source": [
    "type(Y_im)"
   ]
  },
  {
   "cell_type": "code",
   "execution_count": 20,
   "id": "5cd130a0",
   "metadata": {},
   "outputs": [
    {
     "data": {
      "text/plain": [
       "[a, a + 1, 0]"
      ]
     },
     "execution_count": 20,
     "metadata": {},
     "output_type": "execute_result"
    }
   ],
   "source": [
    "Y_im.list()"
   ]
  },
  {
   "cell_type": "code",
   "execution_count": 21,
   "id": "e8ec97aa",
   "metadata": {},
   "outputs": [],
   "source": [
    "Th = matrix([[1,1,1],[a,a+1,1],[a,0,0]])\n",
    "def T(x):\n",
    "    return Th * x + vector([1, a+1 ,a+1])"
   ]
  },
  {
   "cell_type": "code",
   "execution_count": 22,
   "id": "f7dbf76e",
   "metadata": {},
   "outputs": [
    {
     "data": {
      "text/plain": [
       "(0, a, 0)"
      ]
     },
     "execution_count": 22,
     "metadata": {},
     "output_type": "execute_result"
    }
   ],
   "source": [
    "T(vector(Y_im.list()))"
   ]
  },
  {
   "cell_type": "code",
   "execution_count": null,
   "id": "41973364",
   "metadata": {},
   "outputs": [],
   "source": []
  },
  {
   "cell_type": "code",
   "execution_count": null,
   "id": "df8cf757",
   "metadata": {},
   "outputs": [],
   "source": []
  }
 ],
 "metadata": {
  "kernelspec": {
   "display_name": "SageMath 10.1",
   "language": "sage",
   "name": "sagemath"
  },
  "language_info": {
   "codemirror_mode": {
    "name": "ipython",
    "version": 3
   },
   "file_extension": ".py",
   "mimetype": "text/x-python",
   "name": "python",
   "nbconvert_exporter": "python",
   "pygments_lexer": "ipython3",
   "version": "3.11.6"
  }
 },
 "nbformat": 4,
 "nbformat_minor": 5
}
