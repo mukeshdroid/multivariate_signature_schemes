{
 "cells": [
  {
   "cell_type": "markdown",
   "id": "44ffd58f",
   "metadata": {},
   "source": [
    "Implementation of C*"
   ]
  },
  {
   "cell_type": "code",
   "execution_count": 1,
   "id": "ce4471a5",
   "metadata": {},
   "outputs": [
    {
     "data": {
      "text/plain": [
       "Finite Field in a of size 2^2"
      ]
     },
     "execution_count": 1,
     "metadata": {},
     "output_type": "execute_result"
    }
   ],
   "source": [
    "q = 4\n",
    "F.<a> = GF(2^2)\n",
    "F"
   ]
  },
  {
   "cell_type": "code",
   "execution_count": 2,
   "id": "86e85f7c",
   "metadata": {},
   "outputs": [
    {
     "data": {
      "text/plain": [
       "2"
      ]
     },
     "execution_count": 2,
     "metadata": {},
     "output_type": "execute_result"
    }
   ],
   "source": [
    "F.characteristic()"
   ]
  },
  {
   "cell_type": "code",
   "execution_count": 3,
   "id": "bd799ca8",
   "metadata": {},
   "outputs": [
    {
     "data": {
      "text/plain": [
       "[0, a, a + 1, 1]"
      ]
     },
     "execution_count": 3,
     "metadata": {},
     "output_type": "execute_result"
    }
   ],
   "source": [
    "F.list()"
   ]
  },
  {
   "cell_type": "code",
   "execution_count": 4,
   "id": "b8d8c9ad",
   "metadata": {},
   "outputs": [
    {
     "data": {
      "text/plain": [
       "4"
      ]
     },
     "execution_count": 4,
     "metadata": {},
     "output_type": "execute_result"
    }
   ],
   "source": [
    "F.order()"
   ]
  },
  {
   "cell_type": "code",
   "execution_count": 5,
   "id": "f8f3bc65",
   "metadata": {},
   "outputs": [
    {
     "data": {
      "text/plain": [
       "*  a b c d\n",
       " +--------\n",
       "a| a a a a\n",
       "b| a b c d\n",
       "c| a c d b\n",
       "d| a d b c\n"
      ]
     },
     "execution_count": 5,
     "metadata": {},
     "output_type": "execute_result"
    }
   ],
   "source": [
    "F.multiplication_table()"
   ]
  },
  {
   "cell_type": "code",
   "execution_count": 6,
   "id": "2ddba557",
   "metadata": {},
   "outputs": [
    {
     "data": {
      "text/plain": [
       "+  a b c d\n",
       " +--------\n",
       "a| a b c d\n",
       "b| b a d c\n",
       "c| c d a b\n",
       "d| d c b a\n"
      ]
     },
     "execution_count": 6,
     "metadata": {},
     "output_type": "execute_result"
    }
   ],
   "source": [
    "F.addition_table()"
   ]
  },
  {
   "cell_type": "code",
   "execution_count": 7,
   "id": "13c5c38e",
   "metadata": {},
   "outputs": [
    {
     "data": {
      "text/plain": [
       "Univariate Polynomial Ring in x over Finite Field in a of size 2^2"
      ]
     },
     "execution_count": 7,
     "metadata": {},
     "output_type": "execute_result"
    }
   ],
   "source": [
    "R.<x> = F[]\n",
    "R"
   ]
  },
  {
   "cell_type": "code",
   "execution_count": 8,
   "id": "192198fe",
   "metadata": {},
   "outputs": [
    {
     "data": {
      "text/plain": [
       "a"
      ]
     },
     "execution_count": 8,
     "metadata": {},
     "output_type": "execute_result"
    }
   ],
   "source": [
    "F.gen()"
   ]
  },
  {
   "cell_type": "code",
   "execution_count": 9,
   "id": "cd9a4851",
   "metadata": {},
   "outputs": [
    {
     "data": {
      "text/plain": [
       "Univariate Quotient Polynomial Ring in X over Finite Field in a of size 2^2 with modulus X^3 + a"
      ]
     },
     "execution_count": 9,
     "metadata": {},
     "output_type": "execute_result"
    }
   ],
   "source": [
    "n = 3\n",
    "E.<X> = F.extension(x^n+a)\n",
    "E"
   ]
  },
  {
   "cell_type": "code",
   "execution_count": 10,
   "id": "71a80505",
   "metadata": {},
   "outputs": [
    {
     "name": "stdout",
     "output_type": "stream",
     "text": [
      "1\n",
      "2\n"
     ]
    }
   ],
   "source": [
    "for i in range(1,n):\n",
    "    if gcd(q**n-1 , q**i + 1) == 1:\n",
    "        print(i)"
   ]
  },
  {
   "cell_type": "code",
   "execution_count": 11,
   "id": "deac67bd",
   "metadata": {},
   "outputs": [],
   "source": [
    "#maps E to E\n",
    "def central_map(Y):\n",
    "    return Y^17"
   ]
  },
  {
   "cell_type": "code",
   "execution_count": 12,
   "id": "377a5f21",
   "metadata": {},
   "outputs": [
    {
     "data": {
      "text/plain": [
       "26"
      ]
     },
     "execution_count": 12,
     "metadata": {},
     "output_type": "execute_result"
    }
   ],
   "source": [
    "g,k,h = xgcd(q**n-1 , q**i + 1)\n",
    "h"
   ]
  },
  {
   "cell_type": "code",
   "execution_count": 13,
   "id": "e96ad1c4",
   "metadata": {},
   "outputs": [],
   "source": [
    "def inv_central_map(X):\n",
    "    X^26    "
   ]
  },
  {
   "cell_type": "code",
   "execution_count": 14,
   "id": "2e136dd2",
   "metadata": {},
   "outputs": [
    {
     "data": {
      "text/plain": [
       "[    a     a     a]\n",
       "[    0     0     a]\n",
       "[a + 1     a     1]"
      ]
     },
     "execution_count": 14,
     "metadata": {},
     "output_type": "execute_result"
    }
   ],
   "source": [
    "Sh = matrix([[a,a,a],[0,0,a],[a+1,a,1]])\n",
    "Sh"
   ]
  },
  {
   "cell_type": "code",
   "execution_count": 15,
   "id": "9856a9b0",
   "metadata": {},
   "outputs": [
    {
     "data": {
      "text/plain": [
       "[    1     1     1]\n",
       "[    a a + 1     1]\n",
       "[    a     0     0]"
      ]
     },
     "execution_count": 15,
     "metadata": {},
     "output_type": "execute_result"
    }
   ],
   "source": [
    "Th = matrix([[1,1,1],[a,a+1,1],[a,0,0]])\n",
    "Th"
   ]
  },
  {
   "cell_type": "code",
   "execution_count": 16,
   "id": "7359a42b",
   "metadata": {},
   "outputs": [],
   "source": [
    "def S(x):\n",
    "    return Sh * x + vector([0 , a+1 ,a])"
   ]
  },
  {
   "cell_type": "code",
   "execution_count": 17,
   "id": "5b1eb349",
   "metadata": {},
   "outputs": [
    {
     "data": {
      "text/plain": [
       "<function S at 0x7f6b25874ae0>"
      ]
     },
     "execution_count": 17,
     "metadata": {},
     "output_type": "execute_result"
    }
   ],
   "source": [
    "S"
   ]
  },
  {
   "cell_type": "code",
   "execution_count": 18,
   "id": "b9fe57d7",
   "metadata": {},
   "outputs": [
    {
     "data": {
      "text/plain": [
       "(0, 1, a + 1)"
      ]
     },
     "execution_count": 18,
     "metadata": {},
     "output_type": "execute_result"
    }
   ],
   "source": [
    "S(vector([a,a+1,1]))"
   ]
  },
  {
   "cell_type": "code",
   "execution_count": 19,
   "id": "bfd54fef",
   "metadata": {},
   "outputs": [],
   "source": [
    "def T(x):\n",
    "    return Th * x + vector([1, a+1 ,a+1])"
   ]
  },
  {
   "cell_type": "markdown",
   "id": "32df089c",
   "metadata": {},
   "source": [
    "[symbolic variable in finite field](https://ask.sagemath.org/question/36148/generate-a-matrix-over-a-finite-field-with-symbolic-variables/)\n",
    "\n",
    "[google discussion on this topic](https://groups.google.com/g/sage-support/c/eRdR8xtEvtA)"
   ]
  },
  {
   "cell_type": "code",
   "execution_count": 20,
   "id": "f7908e03",
   "metadata": {},
   "outputs": [
    {
     "data": {
      "text/plain": [
       "Multivariate Polynomial Ring in x1, x2, x3 over Finite Field in a of size 2^2"
      ]
     },
     "execution_count": 20,
     "metadata": {},
     "output_type": "execute_result"
    }
   ],
   "source": [
    "R.<x1,x2,x3> = PolynomialRing(F)\n",
    "R"
   ]
  },
  {
   "cell_type": "code",
   "execution_count": 21,
   "id": "25f7df0c",
   "metadata": {},
   "outputs": [
    {
     "data": {
      "text/plain": [
       "(x1 + x2 + x3 + 1, a*x1 + (a + 1)*x2 + x3 + (a + 1), a*x1 + (a + 1))"
      ]
     },
     "execution_count": 21,
     "metadata": {},
     "output_type": "execute_result"
    }
   ],
   "source": [
    "T(vector([x1 , x2 ,x3]))"
   ]
  },
  {
   "cell_type": "code",
   "execution_count": 22,
   "id": "12ad63da",
   "metadata": {},
   "outputs": [
    {
     "data": {
      "text/plain": [
       "x1 + x2 + x3 + 1"
      ]
     },
     "execution_count": 22,
     "metadata": {},
     "output_type": "execute_result"
    }
   ],
   "source": [
    "T(vector([x1 , x2 ,x3]))[0]"
   ]
  },
  {
   "cell_type": "code",
   "execution_count": 23,
   "id": "fb7055a4",
   "metadata": {},
   "outputs": [],
   "source": [
    "def phi(x):\n",
    "    return x[0] * X^0 + x[1] * X^1 + x[2] * X^2 "
   ]
  },
  {
   "cell_type": "code",
   "execution_count": 24,
   "id": "3f49a04d",
   "metadata": {},
   "outputs": [
    {
     "ename": "TypeError",
     "evalue": "unsupported operand parent(s) for *: 'Multivariate Polynomial Ring in x1, x2, x3 over Finite Field in a of size 2^2' and 'Univariate Quotient Polynomial Ring in X over Finite Field in a of size 2^2 with modulus X^3 + a'",
     "output_type": "error",
     "traceback": [
      "\u001b[0;31m---------------------------------------------------------------------------\u001b[0m",
      "\u001b[0;31mTypeError\u001b[0m                                 Traceback (most recent call last)",
      "Cell \u001b[0;32mIn [24], line 1\u001b[0m\n\u001b[0;32m----> 1\u001b[0m \u001b[43mphi\u001b[49m\u001b[43m(\u001b[49m\u001b[43mT\u001b[49m\u001b[43m(\u001b[49m\u001b[43mvector\u001b[49m\u001b[43m(\u001b[49m\u001b[43m[\u001b[49m\u001b[43mx1\u001b[49m\u001b[43m \u001b[49m\u001b[43m,\u001b[49m\u001b[43m \u001b[49m\u001b[43mx2\u001b[49m\u001b[43m \u001b[49m\u001b[43m,\u001b[49m\u001b[43mx3\u001b[49m\u001b[43m]\u001b[49m\u001b[43m)\u001b[49m\u001b[43m)\u001b[49m\u001b[43m)\u001b[49m\n",
      "Cell \u001b[0;32mIn [23], line 2\u001b[0m, in \u001b[0;36mphi\u001b[0;34m(x)\u001b[0m\n\u001b[1;32m      1\u001b[0m \u001b[38;5;28;01mdef\u001b[39;00m \u001b[38;5;21mphi\u001b[39m(x):\n\u001b[0;32m----> 2\u001b[0m     \u001b[38;5;28;01mreturn\u001b[39;00m \u001b[43mx\u001b[49m\u001b[43m[\u001b[49m\u001b[43mInteger\u001b[49m\u001b[43m(\u001b[49m\u001b[38;5;241;43m0\u001b[39;49m\u001b[43m)\u001b[49m\u001b[43m]\u001b[49m\u001b[43m \u001b[49m\u001b[38;5;241;43m*\u001b[39;49m\u001b[43m \u001b[49m\u001b[43mX\u001b[49m\u001b[38;5;241;43m*\u001b[39;49m\u001b[38;5;241;43m*\u001b[39;49m\u001b[43mInteger\u001b[49m\u001b[43m(\u001b[49m\u001b[38;5;241;43m0\u001b[39;49m\u001b[43m)\u001b[49m \u001b[38;5;241m+\u001b[39m x[Integer(\u001b[38;5;241m1\u001b[39m)] \u001b[38;5;241m*\u001b[39m X\u001b[38;5;241m*\u001b[39m\u001b[38;5;241m*\u001b[39mInteger(\u001b[38;5;241m1\u001b[39m) \u001b[38;5;241m+\u001b[39m x[Integer(\u001b[38;5;241m2\u001b[39m)] \u001b[38;5;241m*\u001b[39m X\u001b[38;5;241m*\u001b[39m\u001b[38;5;241m*\u001b[39mInteger(\u001b[38;5;241m2\u001b[39m)\n",
      "File \u001b[0;32m~/sage/sage-10.1/src/sage/structure/element.pyx:1509\u001b[0m, in \u001b[0;36msage.structure.element.Element.__mul__\u001b[0;34m()\u001b[0m\n\u001b[1;32m   1507\u001b[0m     return (<Element>left)._mul_(right)\n\u001b[1;32m   1508\u001b[0m if BOTH_ARE_ELEMENT(cl):\n\u001b[0;32m-> 1509\u001b[0m     return coercion_model.bin_op(left, right, mul)\n\u001b[1;32m   1510\u001b[0m \n\u001b[1;32m   1511\u001b[0m cdef long value\n",
      "File \u001b[0;32m~/sage/sage-10.1/src/sage/structure/coerce.pyx:1269\u001b[0m, in \u001b[0;36msage.structure.coerce.CoercionModel.bin_op\u001b[0;34m()\u001b[0m\n\u001b[1;32m   1267\u001b[0m     # We should really include the underlying error.\n\u001b[1;32m   1268\u001b[0m     # This causes so much headache.\n\u001b[0;32m-> 1269\u001b[0m     raise bin_op_exception(op, x, y)\n\u001b[1;32m   1270\u001b[0m \n\u001b[1;32m   1271\u001b[0m cpdef canonical_coercion(self, x, y):\n",
      "\u001b[0;31mTypeError\u001b[0m: unsupported operand parent(s) for *: 'Multivariate Polynomial Ring in x1, x2, x3 over Finite Field in a of size 2^2' and 'Univariate Quotient Polynomial Ring in X over Finite Field in a of size 2^2 with modulus X^3 + a'"
     ]
    }
   ],
   "source": [
    "phi(T(vector([x1 , x2 ,x3])))"
   ]
  },
  {
   "cell_type": "code",
   "execution_count": 25,
   "id": "eb5fb1b7",
   "metadata": {},
   "outputs": [],
   "source": [
    "def P(x):\n",
    "    return "
   ]
  },
  {
   "cell_type": "code",
   "execution_count": null,
   "id": "b62c74be",
   "metadata": {},
   "outputs": [],
   "source": [
    "\n"
   ]
  },
  {
   "cell_type": "code",
   "execution_count": 26,
   "id": "e5f8b7be",
   "metadata": {},
   "outputs": [
    {
     "data": {
      "text/plain": [
       "(x1 + x2 + x3 + 1, a*x1 + (a + 1)*x2 + x3 + (a + 1), a*x1 + (a + 1))"
      ]
     },
     "execution_count": 26,
     "metadata": {},
     "output_type": "execute_result"
    }
   ],
   "source": [
    "T(vector([x1 , x2 ,x3]))"
   ]
  },
  {
   "cell_type": "code",
   "execution_count": 27,
   "id": "aa4698ef",
   "metadata": {},
   "outputs": [
    {
     "data": {
      "text/plain": [
       "Vector space of dimension 3 over Finite Field in a of size 2^2"
      ]
     },
     "execution_count": 27,
     "metadata": {},
     "output_type": "execute_result"
    }
   ],
   "source": [
    "V = VectorSpace(F,3)\n",
    "V"
   ]
  },
  {
   "cell_type": "code",
   "execution_count": null,
   "id": "6de638bd",
   "metadata": {},
   "outputs": [],
   "source": []
  },
  {
   "cell_type": "code",
   "execution_count": null,
   "id": "eeb53f9e",
   "metadata": {},
   "outputs": [],
   "source": []
  }
 ],
 "metadata": {
  "kernelspec": {
   "display_name": "SageMath 10.1",
   "language": "sage",
   "name": "sagemath"
  },
  "language_info": {
   "codemirror_mode": {
    "name": "ipython",
    "version": 3
   },
   "file_extension": ".py",
   "mimetype": "text/x-python",
   "name": "python",
   "nbconvert_exporter": "python",
   "pygments_lexer": "ipython3",
   "version": "3.11.6"
  }
 },
 "nbformat": 4,
 "nbformat_minor": 5
}
